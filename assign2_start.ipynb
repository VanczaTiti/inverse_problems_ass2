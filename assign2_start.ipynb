{
 "cells": [
  {
   "cell_type": "markdown",
   "id": "45b1516f",
   "metadata": {},
   "source": [
    "# Imports"
   ]
  },
  {
   "cell_type": "code",
   "execution_count": null,
   "id": "d3fdd2bd",
   "metadata": {
    "ExecuteTime": {
     "end_time": "2024-03-11T12:18:58.067764Z",
     "start_time": "2024-03-11T12:18:56.676858Z"
    }
   },
   "outputs": [],
   "source": [
    "\n",
    "import sys\n",
    "sys.path.append('/../')\n",
    "import numpy as np\n",
    "import matplotlib.pyplot as plt\n",
    "import traveltime as tt\n",
    "import pinv\n",
    "import copy\n",
    "from scipy.io import loadmat\n",
    "\n",
    "%matplotlib inline\n",
    "\n",
    "\n",
    "# for reloading submodules without restarting kernel\n",
    "%load_ext autoreload\n",
    "%autoreload 2\n",
    "\n",
    "# ignore plot warnings in gstools\n",
    "import warnings\n",
    "warnings.filterwarnings('ignore')\n"
   ]
  },
  {
   "cell_type": "markdown",
   "id": "a13d2970",
   "metadata": {},
   "source": [
    "# Introduction\n",
    "\n",
    "This notebook gives some hints in terms of how to approach the assignement and get to grips with the PINV package. \n",
    "\n",
    "Please note the PINV package is a not a finished package, it is still under development by T. Meier-Hansen so some variables and functions in the package are not finished or some parts are hard-coded in the source code. However, the package contains all the functions and variable settings needed to solve the assignment. It is highly recommended that you walk though the tutorial notebooks first, they are very much relevant, and you may well get stuck if you do not look at these first.\n",
    "\n",
    "Additionally, it can be a good idea to look in the \"sippi.pdf\" file in literature folder, as it provides explanations of similar variables in the MATLAB version of the package and the naming convention has been kept the same. So a strategy for understanding a function or variable below could be (in prioritized order):\n",
    "- Search for the function/variable name or slight variations in \"sippi.pdf\", \"Hansen_etal_2013_SIPPI1.pdf\" and \"Hansen_etal_2013_SIPPI2.pdf\". Read! \n",
    "- Experiment with a small number of iterations and see which effect different variables have\n",
    "- Look into source code (search function in VScode is very helpful here), but keep in mind that this requires reading the code - it does not have a lot of comments. Specifically line 107-132 in ```extended_metropolis.py``` provides a bit of insight into what order things are called in.\n",
    "\n",
    "Make sure you can run everything below and make some test diagnostic plots before you start to run a large number of iterations (this can take a long time!). Note that you can load the hdf5 files after the run has completed, so if you run the model and later want to look at results you can load them from the hdf5, instead of running everything again. "
   ]
  },
  {
   "cell_type": "markdown",
   "id": "7f7f08d9",
   "metadata": {
    "ExecuteTime": {
     "end_time": "2023-03-28T12:32:12.865607Z",
     "start_time": "2023-03-28T12:32:12.838082Z"
    }
   },
   "source": [
    "# Load data"
   ]
  },
  {
   "cell_type": "code",
   "execution_count": null,
   "id": "f317bf18",
   "metadata": {
    "ExecuteTime": {
     "end_time": "2024-03-11T12:19:21.815733Z",
     "start_time": "2024-03-11T12:19:21.696879Z"
    }
   },
   "outputs": [],
   "source": [
    "\n",
    "M=loadmat('data/BHRS_2D.mat')\n",
    "data_obs = M['traveltimes'].squeeze()\n",
    "data_std = M['traveltimes_std'].squeeze()\n",
    "ndata, ndim = M['sources'].shape\n",
    "sources = M['sources'].squeeze()\n",
    "receivers = M['receivers'].squeeze()\n",
    "\n",
    "dx = .25\n",
    "dy = dx\n",
    "min_x = np.min(M['sources'][:, 0])\n",
    "max_x = np.max(M['receivers'][:, 0])\n",
    "min_y = np.min(np.hstack((M['sources'][:, 1],  M['receivers'][:, 1])))\n",
    "max_y = np.max(np.hstack((M['sources'][:, 1],  M['receivers'][:, 1])))\n"
   ]
  },
  {
   "cell_type": "markdown",
   "id": "5dab23ab",
   "metadata": {
    "ExecuteTime": {
     "end_time": "2023-03-28T12:32:16.297387Z",
     "start_time": "2023-03-28T12:32:16.267021Z"
    }
   },
   "source": [
    "# Setup prior\n",
    "\n",
    "The prior is set up by assigning various fields to the prior object. First we assign a name and the type of prior we want to use, let us us the Cholesky method which is based on a cholesky decomposition of the covariance model."
   ]
  },
  {
   "cell_type": "code",
   "execution_count": null,
   "id": "664b991c",
   "metadata": {
    "ExecuteTime": {
     "end_time": "2024-03-11T12:19:40.473621Z",
     "start_time": "2024-03-11T12:19:40.367568Z"
    }
   },
   "outputs": [],
   "source": [
    "im = 0\n",
    "prior = [{}]\n",
    "prior[im]['name'] = 'Cholesky, velocity (m/ns)'\n",
    "prior[im]['method'] = 'cholesky'\n",
    "\n",
    "prior[im]['x'] = np.arange(min_x - 2 * dx, max_x + 2 * dx, dx)\n",
    "prior[im]['y'] = np.arange(min_y - 2 * dy, max_y + 2 * dy, dy)\n",
    "domain_shape = (len(prior[im]['y']), len(prior[im]['x']))  # for reshaping later\n",
    "\n",
    "# Set properties of prior: !dummy values, you need to find the correct values based on the training images!\n",
    "mean0=0.1\n",
    "h=8.75\n",
    "var=1e-05\n",
    "\n",
    "prior[im]['m0'] = mean0\n",
    "prior[im]['Cm'] = '{} Sph({})'.format(var, h)\n"
   ]
  },
  {
   "cell_type": "markdown",
   "id": "f2aa63e4",
   "metadata": {},
   "source": [
    "# Setup forward"
   ]
  },
  {
   "cell_type": "code",
   "execution_count": null,
   "id": "bdd37b5a",
   "metadata": {
    "ExecuteTime": {
     "end_time": "2024-03-11T12:19:41.306170Z",
     "start_time": "2024-03-11T12:19:41.192501Z"
    }
   },
   "outputs": [],
   "source": [
    "\n",
    "##%% SETUP FORWARD\n",
    "forward = {}\n",
    "forward['S'] = M['sources'][:, 0:2]\n",
    "forward['R'] = M['receivers'][:, 0:2]\n",
    "forward['function'] = 'forward_traveltime'\n"
   ]
  },
  {
   "cell_type": "markdown",
   "id": "d9221042",
   "metadata": {},
   "source": [
    "# Setup data"
   ]
  },
  {
   "cell_type": "code",
   "execution_count": null,
   "id": "16c47cb6",
   "metadata": {
    "ExecuteTime": {
     "end_time": "2024-03-11T12:19:42.065236Z",
     "start_time": "2024-03-11T12:19:41.982521Z"
    }
   },
   "outputs": [],
   "source": [
    "\n",
    "##%% SETUP DATA\n",
    "data=[{}]\n",
    "data[0]['d_obs']=data_obs\n",
    "data[0]['d_std']=data_std\n"
   ]
  },
  {
   "cell_type": "markdown",
   "id": "48273921",
   "metadata": {},
   "source": [
    "# Test setup"
   ]
  },
  {
   "cell_type": "code",
   "execution_count": null,
   "id": "3993a559",
   "metadata": {
    "ExecuteTime": {
     "end_time": "2024-03-11T12:19:44.528559Z",
     "start_time": "2024-03-11T12:19:42.766674Z"
    }
   },
   "outputs": [],
   "source": [
    "\n",
    "##%% TEST SETUP\n",
    "m = pinv.prior.simulate(prior) # realisations of velocities from prior distribution\n",
    "d = pinv.forward.forward(m,forward,prior)\n",
    "logL = pinv.likelihood(d,data)\n",
    "print('LogL(g(m)) = %6.3f' % (logL[0]) )\n"
   ]
  },
  {
   "cell_type": "markdown",
   "id": "592842fb",
   "metadata": {},
   "source": [
    "## Plot model and rays"
   ]
  },
  {
   "cell_type": "code",
   "execution_count": null,
   "id": "9c9dd195",
   "metadata": {
    "ExecuteTime": {
     "end_time": "2024-03-11T12:19:46.299843Z",
     "start_time": "2024-03-11T12:19:45.444452Z"
    }
   },
   "outputs": [],
   "source": [
    "\n",
    "##%% PLOT MODEL and RAYS\n",
    "plt.figure(figsize=(7, 7))\n",
    "plt.pcolor(prior[im]['x'], prior[im]['y'], m[0])\n",
    "plt.gca().set_aspect('equal')\n",
    "plt.gca().xaxis.set_label_position('top') \n",
    "for i in range(ndata):\n",
    "    plt.plot([sources[i,0], receivers[i,0]], [sources[i,1], receivers[i,1]], 'w-', linewidth=0.2)\n",
    "plt.gca().invert_yaxis()\n",
    "plt.xlabel('X (m)', fontsize=15, labelpad=10)\n",
    "plt.ylabel('Z (m)', fontsize=15, labelpad=10)\n",
    "cbar = plt.colorbar()\n",
    "cbar.set_label('Velocity (m/ns)', fontsize=15, labelpad=20)\n",
    "plt.show()\n"
   ]
  },
  {
   "cell_type": "markdown",
   "id": "3851eb45",
   "metadata": {},
   "source": [
    "## Plot data predictions from single forward pass"
   ]
  },
  {
   "cell_type": "code",
   "execution_count": null,
   "id": "02c1fac8",
   "metadata": {
    "ExecuteTime": {
     "end_time": "2024-03-11T12:19:48.382261Z",
     "start_time": "2024-03-11T12:19:48.242912Z"
    },
    "scrolled": false
   },
   "outputs": [],
   "source": [
    "\n",
    "plt.figure(figsize=(9, 5))\n",
    "plt.plot(d[0], label='Data prediction from one forward pass')\n",
    "plt.plot(data_obs, label='Observed data')\n",
    "plt.ylabel('Traveltimes (ns)')\n",
    "plt.xlabel('Datum #')\n",
    "plt.legend()\n",
    "plt.grid('grey')\n",
    "plt.show()\n"
   ]
  },
  {
   "cell_type": "markdown",
   "id": "14c5b09f",
   "metadata": {},
   "source": [
    "# Do Metropolis sampling"
   ]
  },
  {
   "cell_type": "code",
   "execution_count": null,
   "id": "5fde5dbb",
   "metadata": {
    "ExecuteTime": {
     "end_time": "2024-03-11T12:19:50.683025Z",
     "start_time": "2024-03-11T12:19:50.591263Z"
    }
   },
   "outputs": [],
   "source": [
    "\n",
    "##%% SETUP METROPOLIS\n",
    "mcmc={}\n",
    "mcmc[\"n_ite\"]=5000  # Too short - just for illustration!\n",
    "#mcmc[\"n_ite\"]=25000 # Longer but still too short?\n",
    "mcmc[\"n_sample\"]=100  # number of realizations to store\n",
    "mcmc[\"i_plot\"]=100  # plotting option, not working\n",
    "mcmc['i_progress']=250 # how often progress should be updated\n",
    "\n",
    "# Update step\n",
    "mcmc['i_update_step']=50; # how often step length is adjusted\n",
    "mcmc['i_update_step_max']=int(mcmc[\"n_ite\"]/5); # for how long will the step length be updated\n",
    "prior[0]['step_min']=0.001; # minimum step length\n"
   ]
  },
  {
   "cell_type": "code",
   "execution_count": null,
   "id": "2d95304b",
   "metadata": {
    "ExecuteTime": {
     "end_time": "2024-03-11T12:29:27.138339Z",
     "start_time": "2024-03-11T12:19:55.260989Z"
    }
   },
   "outputs": [],
   "source": [
    "\n",
    "pinv.verbose_level=2  # verbosity level, does not affect model, only print updates\n",
    "\n",
    "mcmc_out = pinv.sampling.metropolis_chains(copy.deepcopy(forward), copy.deepcopy(prior), copy.deepcopy(data), mcmc)\n",
    "\n",
    "# Might report error saving stricts using \"deepdish\" (which copies deep python structures), this is not a problem for this assignment"
   ]
  },
  {
   "cell_type": "markdown",
   "id": "95202486",
   "metadata": {},
   "source": [
    "# Plot results"
   ]
  },
  {
   "cell_type": "markdown",
   "id": "afb33eca",
   "metadata": {},
   "source": [
    "## Plot log-likelihood"
   ]
  },
  {
   "cell_type": "code",
   "execution_count": null,
   "id": "b15236eb",
   "metadata": {
    "ExecuteTime": {
     "end_time": "2024-03-11T12:29:37.980511Z",
     "start_time": "2024-03-11T12:29:37.678722Z"
    }
   },
   "outputs": [],
   "source": [
    "\n",
    "pinv.plot.plot_likelihood(mcmc_out['hdf5filename'])\n"
   ]
  },
  {
   "cell_type": "markdown",
   "id": "fc65bdc6",
   "metadata": {},
   "source": [
    "## Plot acceptance rate"
   ]
  },
  {
   "cell_type": "code",
   "execution_count": null,
   "id": "3655c4dd",
   "metadata": {
    "ExecuteTime": {
     "end_time": "2024-03-11T12:29:39.522186Z",
     "start_time": "2024-03-11T12:29:39.215824Z"
    }
   },
   "outputs": [],
   "source": [
    "\n",
    "pinv.plot.plot_acceptance_rate(mcmc_out['hdf5filename'])\n"
   ]
  },
  {
   "cell_type": "markdown",
   "id": "70b1f080",
   "metadata": {},
   "source": [
    "## Plot acceptance rate histogram"
   ]
  },
  {
   "cell_type": "code",
   "execution_count": null,
   "id": "73768159",
   "metadata": {
    "ExecuteTime": {
     "end_time": "2024-03-11T12:29:40.954269Z",
     "start_time": "2024-03-11T12:29:40.758940Z"
    }
   },
   "outputs": [],
   "source": [
    "\n",
    "# The chain is not saved in mcmc variable but stored in hdf5 file\n",
    "import h5py\n",
    "f = h5py.File(mcmc_out['hdf5filename'], 'r')\n",
    "\n",
    "# Acc rate is computed as an avg acc rate for a window of maximum 200 indices on each side of the current bin (bins of size 10, \"n_ite\" = 1000 gives 100 bins)\n",
    "wi = 100\n",
    "di = 10\n",
    "v = 'C%d/i_acc' % 0\n",
    "i_acc=f[v][im,:]\n",
    "\n",
    "N=len(i_acc)\n",
    "i_range=np.arange(0, N, di)\n",
    "accrate = np.zeros(len(i_range))\n",
    "k=0\n",
    "for i in i_range:\n",
    "    i1 = np.max([0, i - wi])\n",
    "    i2 = np.min([N, i + wi])\n",
    "    accrate[k] = np.sum(i_acc[i1:i2])/(i2-i1)\n",
    "    k=k+1\n",
    "    \n",
    "fig = plt.figure(figsize=(9, 5))\n",
    "plt.hist(accrate)\n",
    "plt.show()\n"
   ]
  },
  {
   "cell_type": "markdown",
   "id": "f7934e54",
   "metadata": {},
   "source": [
    "## Plot random posterior samples"
   ]
  },
  {
   "cell_type": "code",
   "execution_count": null,
   "id": "58540b75",
   "metadata": {
    "ExecuteTime": {
     "end_time": "2024-03-11T12:29:42.725881Z",
     "start_time": "2024-03-11T12:29:42.399016Z"
    }
   },
   "outputs": [],
   "source": [
    "\n",
    "# Get posterior sample from saved outputs\n",
    "m_all = pinv.sampling.get_sample_from_hdf5(mcmc_out['hdf5filename'], im=0, ic=0, nskip=0)\n",
    "\n",
    "# Plot sequence of output models from posterior sample\n",
    "random_index = np.random.randint(0, 100, 9)\n",
    "m_plot = m_all[random_index]\n",
    "\n",
    "fig = plt.figure(figsize=(10,10))\n",
    "for i, posterior_sample in enumerate(m_plot):\n",
    "    ax = fig.add_subplot(3, 3, i + 1) # this line adds sub-axes\n",
    "    ax.imshow(posterior_sample.reshape(domain_shape))\n",
    "plt.show()\n"
   ]
  },
  {
   "cell_type": "code",
   "execution_count": null,
   "id": "4c6705ce",
   "metadata": {},
   "outputs": [],
   "source": []
  }
 ],
 "metadata": {
  "kernelspec": {
   "display_name": "Python 3 (ipykernel)",
   "language": "python",
   "name": "python3"
  },
  "language_info": {
   "codemirror_mode": {
    "name": "ipython",
    "version": 3
   },
   "file_extension": ".py",
   "mimetype": "text/x-python",
   "name": "python",
   "nbconvert_exporter": "python",
   "pygments_lexer": "ipython3",
   "version": "3.10.13"
  },
  "latex_envs": {
   "LaTeX_envs_menu_present": true,
   "autoclose": false,
   "autocomplete": true,
   "bibliofile": "biblio.bib",
   "cite_by": "apalike",
   "current_citInitial": 1,
   "eqLabelWithNumbers": true,
   "eqNumInitial": 1,
   "hotkeys": {
    "equation": "Ctrl-E",
    "itemize": "Ctrl-I"
   },
   "labels_anchors": false,
   "latex_user_defs": false,
   "report_style_numbering": false,
   "user_envs_cfg": false
  },
  "toc": {
   "base_numbering": 1,
   "nav_menu": {},
   "number_sections": true,
   "sideBar": true,
   "skip_h1_title": false,
   "title_cell": "Table of Contents",
   "title_sidebar": "Contents",
   "toc_cell": false,
   "toc_position": {
    "height": "calc(100% - 180px)",
    "left": "10px",
    "top": "150px",
    "width": "180.961px"
   },
   "toc_section_display": true,
   "toc_window_display": true
  },
  "varInspector": {
   "cols": {
    "lenName": 16,
    "lenType": 16,
    "lenVar": 40
   },
   "kernels_config": {
    "python": {
     "delete_cmd_postfix": "",
     "delete_cmd_prefix": "del ",
     "library": "var_list.py",
     "varRefreshCmd": "print(var_dic_list())"
    },
    "r": {
     "delete_cmd_postfix": ") ",
     "delete_cmd_prefix": "rm(",
     "library": "var_list.r",
     "varRefreshCmd": "cat(var_dic_list()) "
    }
   },
   "types_to_exclude": [
    "module",
    "function",
    "builtin_function_or_method",
    "instance",
    "_Feature"
   ],
   "window_display": false
  }
 },
 "nbformat": 4,
 "nbformat_minor": 5
}
